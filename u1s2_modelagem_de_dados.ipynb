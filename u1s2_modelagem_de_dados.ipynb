{
  "nbformat": 4,
  "nbformat_minor": 0,
  "metadata": {
    "colab": {
      "provenance": [],
      "authorship_tag": "ABX9TyNun07qxCoLieJDCNC8vxwn",
      "include_colab_link": true
    },
    "kernelspec": {
      "name": "python3",
      "display_name": "Python 3"
    },
    "language_info": {
      "name": "python"
    }
  },
  "cells": [
    {
      "cell_type": "markdown",
      "metadata": {
        "id": "view-in-github",
        "colab_type": "text"
      },
      "source": [
        "<a href=\"https://colab.research.google.com/github/fv050795/modelagem-de-dados-/blob/main/u1s2_modelagem_de_dados.ipynb\" target=\"_parent\"><img src=\"https://colab.research.google.com/assets/colab-badge.svg\" alt=\"Open In Colab\"/></a>"
      ]
    },
    {
      "cell_type": "code",
      "execution_count": 1,
      "metadata": {
        "colab": {
          "base_uri": "https://localhost:8080/"
        },
        "id": "wCWcFlWwqw1p",
        "outputId": "19d4c0c6-a998-459a-c217-fef008c68dfc"
      },
      "outputs": [
        {
          "output_type": "stream",
          "name": "stdout",
          "text": [
            "--- Registros de Clientes ---\n",
            "Cliente ID: 1, Nome: Ana Silva, Email: ana.silva@email.com, Telefone: 11987654321\n",
            "Cliente ID: 2, Nome: Bruno Costa, Email: bruno.costa@email.com, Telefone: 21912345678\n",
            "Cliente ID: 3, Nome: Carlos Almeida, Email: carlos.almeida@email.com, Telefone: 31998765432\n",
            "\n",
            "--- Registros de Produtos ---\n",
            "Produto ID: 101, Nome: Notebook Gamer, Preço: R$5500.00, Estoque: 15\n",
            "Produto ID: 102, Nome: Mouse Sem Fio, Preço: R$120.50, Estoque: 50\n",
            "Produto ID: 103, Nome: Teclado Mecânico, Preço: R$350.00, Estoque: 30\n",
            "\n",
            "--- Acessando clientes na 'tabela' ---\n",
            "Nome do cliente: Ana Silva\n",
            "Nome do cliente: Bruno Costa\n",
            "Nome do cliente: Carlos Almeida\n",
            "\n",
            "--- Acessando produtos na 'tabela' ---\n",
            "Produto: Notebook Gamer, Preço: 5500.0\n",
            "Produto: Mouse Sem Fio, Preço: 120.5\n",
            "Produto: Teclado Mecânico, Preço: 350.0\n"
          ]
        }
      ],
      "source": [
        "# Definição de uma classe para representar a entidade Cliente\n",
        "# Uma entidade representa um objeto ou indivíduo do mundo real [29, 30].\n",
        "# Os atributos são as características dessa entidade [35, 36].\n",
        "class Cliente:\n",
        "    def __init__(self, id_cliente, nome, email, telefone):\n",
        "        # Cada parâmetro aqui representa um atributo (coluna) da entidade Cliente [35, 36].\n",
        "        self.id_cliente = id_cliente\n",
        "        self.nome = nome\n",
        "        self.email = email\n",
        "        self.telefone = telefone\n",
        "\n",
        "    def __str__(self):\n",
        "        # Retorna uma representação legível do \"registro\" (linha) do cliente [35, 36].\n",
        "        return f\"Cliente ID: {self.id_cliente}, Nome: {self.nome}, Email: {self.email}, Telefone: {self.telefone}\"\n",
        "\n",
        "# Definição de uma classe para representar a entidade Produto\n",
        "class Produto:\n",
        "    def __init__(self, id_produto, nome_produto, preco, estoque):\n",
        "        # Atributos da entidade Produto [35, 36].\n",
        "        self.id_produto = id_produto\n",
        "        self.nome_produto = nome_produto\n",
        "        self.preco = preco\n",
        "        self.estoque = estoque\n",
        "\n",
        "    def __str__(self):\n",
        "        # Retorna uma representação legível do \"registro\" (linha) do produto [35, 36].\n",
        "        return f\"Produto ID: {self.id_produto}, Nome: {self.nome_produto}, Preço: R${self.preco:.2f}, Estoque: {self.estoque}\"\n",
        "\n",
        "# --- Simulação de dados (registros/tuplas) ---\n",
        "# Criando instâncias de clientes (cada instância é um \"registro\" na tabela conceitual de Clientes) [35, 36].\n",
        "cliente1 = Cliente(1, \"Ana Silva\", \"ana.silva@email.com\", \"11987654321\")\n",
        "cliente2 = Cliente(2, \"Bruno Costa\", \"bruno.costa@email.com\", \"21912345678\")\n",
        "cliente3 = Cliente(3, \"Carlos Almeida\", \"carlos.almeida@email.com\", \"31998765432\")\n",
        "\n",
        "# Criando instâncias de produtos (cada instância é um \"registro\" na tabela conceitual de Produtos) [35, 36].\n",
        "produto1 = Produto(101, \"Notebook Gamer\", 5500.00, 15)\n",
        "produto2 = Produto(102, \"Mouse Sem Fio\", 120.50, 50)\n",
        "produto3 = Produto(103, \"Teclado Mecânico\", 350.00, 30)\n",
        "\n",
        "# --- Exibindo os \"registros\" ---\n",
        "print(\"--- Registros de Clientes ---\")\n",
        "print(cliente1)\n",
        "print(cliente2)\n",
        "print(cliente3)\n",
        "\n",
        "print(\"\\n--- Registros de Produtos ---\")\n",
        "print(produto1)\n",
        "print(produto2)\n",
        "print(produto3)\n",
        "\n",
        "# Para simular uma \"tabela\", podemos armazenar os objetos em uma lista.\n",
        "# Esta lista representa a coletânea de dados da entidade [7, 8].\n",
        "tabela_clientes = [cliente1, cliente2, cliente3]\n",
        "tabela_produtos = [produto1, produto2, produto3]\n",
        "\n",
        "print(\"\\n--- Acessando clientes na 'tabela' ---\")\n",
        "for cliente in tabela_clientes:\n",
        "    print(f\"Nome do cliente: {cliente.nome}\")\n",
        "\n",
        "print(\"\\n--- Acessando produtos na 'tabela' ---\")\n",
        "for produto in tabela_produtos:\n",
        "    print(f\"Produto: {produto.nome_produto}, Preço: {produto.preco}\")\n",
        "\n",
        "# Este exercício simples demonstra o aspecto estrutural do modelo relacional,\n",
        "# onde dados são organizados em categorias (entidades/tabelas) e possuem\n",
        "# características específicas (atributos/colunas), e cada entrada é um registro [7, 8].\n",
        "# A modelagem de dados é fundamental para a organização dessas informações [5, 6]."
      ]
    }
  ]
}